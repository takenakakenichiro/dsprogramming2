{
 "cells": [
  {
   "cell_type": "code",
   "execution_count": 8,
   "metadata": {},
   "outputs": [
    {
     "name": "stdout",
     "output_type": "stream",
     "text": [
      "/Users/kenichiro/Desktop/dsprogramming2/dsprogramming2\n"
     ]
    }
   ],
   "source": [
    "import sqlite3\n",
    "!pwd"
   ]
  },
  {
   "cell_type": "code",
   "execution_count": 37,
   "metadata": {},
   "outputs": [],
   "source": [
    "#データベースに接続する"
   ]
  },
  {
   "cell_type": "code",
   "execution_count": 9,
   "metadata": {},
   "outputs": [],
   "source": [
    "path = \"/Users/kenichiro/Desktop/dsprogramming2/dsprogramming2/\"\n",
    "db_name = \"TVnews.sqlite\"\n",
    "con = sqlite3.connect(path + db_name)\n",
    "con.close()"
   ]
  },
  {
   "cell_type": "code",
   "execution_count": 10,
   "metadata": {},
   "outputs": [
    {
     "ename": "OperationalError",
     "evalue": "table TVnews already exists",
     "output_type": "error",
     "traceback": [
      "\u001b[0;31m---------------------------------------------------------------------------\u001b[0m",
      "\u001b[0;31mOperationalError\u001b[0m                          Traceback (most recent call last)",
      "\u001b[1;32m/Users/kenichiro/Desktop/dsprogramming2/dsprogramming2/final.ipynb セル 3\u001b[0m line \u001b[0;36m5\n\u001b[1;32m      <a href='vscode-notebook-cell:/Users/kenichiro/Desktop/dsprogramming2/dsprogramming2/final.ipynb#W2sZmlsZQ%3D%3D?line=2'>3</a>\u001b[0m create_name \u001b[39m=\u001b[39m \u001b[39m\"\u001b[39m\u001b[39mCREATE TABLE TVnews (date text, topic text);\u001b[39m\u001b[39m\"\u001b[39m\n\u001b[1;32m      <a href='vscode-notebook-cell:/Users/kenichiro/Desktop/dsprogramming2/dsprogramming2/final.ipynb#W2sZmlsZQ%3D%3D?line=3'>4</a>\u001b[0m \u001b[39m# テーブルの作成\u001b[39;00m\n\u001b[0;32m----> <a href='vscode-notebook-cell:/Users/kenichiro/Desktop/dsprogramming2/dsprogramming2/final.ipynb#W2sZmlsZQ%3D%3D?line=4'>5</a>\u001b[0m cur\u001b[39m.\u001b[39;49mexecute(create_name)\n\u001b[1;32m      <a href='vscode-notebook-cell:/Users/kenichiro/Desktop/dsprogramming2/dsprogramming2/final.ipynb#W2sZmlsZQ%3D%3D?line=5'>6</a>\u001b[0m \u001b[39m# コミットとクローズ\u001b[39;00m\n\u001b[1;32m      <a href='vscode-notebook-cell:/Users/kenichiro/Desktop/dsprogramming2/dsprogramming2/final.ipynb#W2sZmlsZQ%3D%3D?line=6'>7</a>\u001b[0m con\u001b[39m.\u001b[39mcommit()\n",
      "\u001b[0;31mOperationalError\u001b[0m: table TVnews already exists"
     ]
    }
   ],
   "source": [
    "con = sqlite3.connect(path + db_name)\n",
    "cur = con.cursor()\n",
    "create_name = \"CREATE TABLE TVnews (date text, topic text);\"\n",
    "# テーブルの作成\n",
    "cur.execute(create_name)\n",
    "# コミットとクローズ\n",
    "con.commit()\n",
    "con.close()"
   ]
  },
  {
   "cell_type": "code",
   "execution_count": 11,
   "metadata": {},
   "outputs": [],
   "source": [
    "#connect to\n",
    "con = sqlite3.connect(path + db_name)\n",
    "\n",
    "#get object\n",
    "cur = con.cursor()\n",
    "\n",
    "#insert into \n",
    "insert_many = 'INSERT INTO TVnews VALUES (?, ?);'\n",
    "\n",
    "#prepare a list\n",
    "TVnews_list = [(\"12月26日\", \"山本投手移籍\"),\n",
    "(\"12月27日\", \"イスラエル軍ガザ中部にも拡大\"),\n",
    "(\"12月28日\", \"阿部派強制捜査\"),\n",
    "(\"12月29日\", \"ロシア軍事侵攻16人死亡\"),\n",
    "(\"12月30日\", \"歌手、八代亜紀さん死亡\"),\n",
    "(\"12月31日\", \"ロシア軍攻撃による死者46人に\"),\n",
    "(\"1月1日\", \"地震\"),\n",
    "(\"1月2日\", \"地震\"),\n",
    "(\"1月3日\", \"地震\"),\n",
    "(\"1月4日\", \"地震\"),\n",
    "(\"1月5日\", \"地震\"),\n",
    "(\"1月6日\", \"航空機炎上\"),\n",
    "(\"1月7日\", \"自民党安倍派池田議員逮捕\"),\n",
    "(\"1月8日\", \"地震\"),\n",
    "(\"1月9日\", \"地震\")]\n",
    "\n",
    "#execute\n",
    "cur.executemany(insert_many, TVnews_list)\n",
    "\n",
    "#commit prosessing\n",
    "con.commit()\n",
    "\n",
    "#db close\n",
    "con.close()"
   ]
  },
  {
   "cell_type": "code",
   "execution_count": 12,
   "metadata": {},
   "outputs": [
    {
     "name": "stdout",
     "output_type": "stream",
     "text": [
      "Defaulting to user installation because normal site-packages is not writeable\n",
      "Requirement already satisfied: beautifulsoup4 in /Users/kenichiro/Library/Python/3.9/lib/python/site-packages (4.12.3)\n",
      "Requirement already satisfied: soupsieve>1.2 in /Users/kenichiro/Library/Python/3.9/lib/python/site-packages (from beautifulsoup4) (2.5)\n",
      "\n",
      "\u001b[1m[\u001b[0m\u001b[34;49mnotice\u001b[0m\u001b[1;39;49m]\u001b[0m\u001b[39;49m A new release of pip is available: \u001b[0m\u001b[31;49m23.1.2\u001b[0m\u001b[39;49m -> \u001b[0m\u001b[32;49m23.3.2\u001b[0m\n",
      "\u001b[1m[\u001b[0m\u001b[34;49mnotice\u001b[0m\u001b[1;39;49m]\u001b[0m\u001b[39;49m To update, run: \u001b[0m\u001b[32;49m/Library/Developer/CommandLineTools/usr/bin/python3 -m pip install --upgrade pip\u001b[0m\n",
      "Note: you may need to restart the kernel to use updated packages.\n"
     ]
    }
   ],
   "source": [
    "pip install beautifulsoup4"
   ]
  },
  {
   "cell_type": "code",
   "execution_count": 35,
   "metadata": {},
   "outputs": [],
   "source": [
    "#Netnews list\n",
    "Netnews_list= []\n",
    "\n",
    "#scraping\n",
    "import requests\n",
    "import csv\n",
    "r=requests.get(\"https://www.asahi.com/news/\")\n",
    "\n",
    "encoding=r.encoding\n",
    "if encoding.lower() == 'iso-8859-1':\n",
    "    r.encoding = 'utf-8'\n",
    "\n",
    "from bs4 import BeautifulSoup\n",
    "soup=BeautifulSoup(r.text, 'html.parser')\n",
    "\n",
    "tag=soup.find('ul', class_=\"List\")\n",
    "\n",
    "if tag is not None:\n",
    "    for row in tag.find_all('li'):\n",
    "        columns=row.find('a')\n",
    "        if columns:\n",
    "            target_data=columns.text\n",
    "            print(target_data)\n",
    "            Netnews_list.append(target_data)\n",
    "else:\n",
    "    print(\"none\")"
   ]
  }
 ],
 "metadata": {
  "kernelspec": {
   "display_name": "Python 3",
   "language": "python",
   "name": "python3"
  },
  "language_info": {
   "codemirror_mode": {
    "name": "ipython",
    "version": 3
   },
   "file_extension": ".py",
   "mimetype": "text/x-python",
   "name": "python",
   "nbconvert_exporter": "python",
   "pygments_lexer": "ipython3",
   "version": "3.9.6"
  }
 },
 "nbformat": 4,
 "nbformat_minor": 2
}
